{
  "nbformat": 4,
  "nbformat_minor": 0,
  "metadata": {
    "colab": {
      "provenance": [],
      "authorship_tag": "ABX9TyPTBlNLXoxlIU1TP3TknGq0",
      "include_colab_link": true
    },
    "kernelspec": {
      "name": "python3",
      "display_name": "Python 3"
    },
    "language_info": {
      "name": "python"
    }
  },
  "cells": [
    {
      "cell_type": "markdown",
      "metadata": {
        "id": "view-in-github",
        "colab_type": "text"
      },
      "source": [
        "<a href=\"https://colab.research.google.com/github/dorirozen/AI_Tasks/blob/main/NlpTask2_Dori_Shlomi.ipynb\" target=\"_parent\"><img src=\"https://colab.research.google.com/assets/colab-badge.svg\" alt=\"Open In Colab\"/></a>"
      ]
    },
    {
      "cell_type": "code",
      "source": [
        "#@title Creating the corpus from prev task\n",
        "!pip install beautifulsoup4\n",
        "import nltk,time,spacy,csv,requests\n",
        "from bs4 import BeautifulSoup\n",
        "\n",
        "\n",
        "#@title BeautifulSoup part\n",
        "websites = ['https://afgprogrammer.com/flutter/','https://huggingface.co/docs/transformers/model_doc/hubert']\n",
        "\n",
        "scrap_sentences = []\n",
        "\n",
        "for web in websites:\n",
        "    soup = BeautifulSoup(requests.get(web).text,'html.parser')\n",
        "    for p in soup.find_all('p'):\n",
        "        scrap_sentences.append(p.text)\n",
        "\n",
        "\n",
        "print(\"Scraped Sentences:\\n\")\n",
        "print(scrap_sentences[0:5])\n",
        "\n",
        "# Save the corpus to a text file\n",
        "with open('corpus.txt', 'w', encoding='utf-8') as file:\n",
        "    for sentence in scrap_sentences:\n",
        "        file.write(sentence + '\\n')\n",
        "\n",
        "print(\"Corpus saved to corpus.txt\")"
      ],
      "metadata": {
        "colab": {
          "base_uri": "https://localhost:8080/"
        },
        "id": "jKyyo-Mm3pT5",
        "outputId": "46215645-60e9-4202-f33c-a3fb76326c54"
      },
      "execution_count": null,
      "outputs": [
        {
          "output_type": "stream",
          "name": "stdout",
          "text": [
            "Requirement already satisfied: beautifulsoup4 in /usr/local/lib/python3.10/dist-packages (4.12.3)\n",
            "Requirement already satisfied: soupsieve>1.2 in /usr/local/lib/python3.10/dist-packages (from beautifulsoup4) (2.5)\n",
            "Scraped Sentences:\n",
            "\n",
            "['Search in 100+ Flutter Examples ', 'Day 64 of Flutter 100 days of code.', 'Day 63 of Flutter 100 days of code.', 'Day 62 of Flutter 100 days of code.', 'Day 61 of Flutter 100 days of code.']\n",
            "Corpus saved to corpus.txt\n"
          ]
        }
      ]
    },
    {
      "cell_type": "markdown",
      "source": [
        "# Task 2\n"
      ],
      "metadata": {
        "id": "ckAeWmaVXq7s"
      }
    },
    {
      "cell_type": "code",
      "source": [
        "import spacy , nltk\n",
        "from nltk.tokenize import WhitespaceTokenizer,RegexpTokenizer,sent_tokenize, word_tokenize\n",
        "from nltk.grammar import CFG, Nonterminal\n",
        "from nltk.stem import PorterStemmer, LancasterStemmer, SnowballStemmer,WordNetLemmatizer\n",
        "from pandas import unique\n",
        "from sklearn.feature_extraction.text import CountVectorizer, TfidfVectorizer\n",
        "from gensim.models import Word2Vec\n",
        "\n",
        "nltk.download('wordnet')\n",
        "nltk.download('punkt')"
      ],
      "metadata": {
        "id": "3v165BD5yJFm",
        "colab": {
          "base_uri": "https://localhost:8080/"
        },
        "outputId": "461c62d3-c08b-4a81-9073-8c6ccebecfec"
      },
      "execution_count": null,
      "outputs": [
        {
          "output_type": "stream",
          "name": "stderr",
          "text": [
            "[nltk_data] Downloading package wordnet to /root/nltk_data...\n",
            "[nltk_data]   Package wordnet is already up-to-date!\n",
            "[nltk_data] Downloading package punkt to /root/nltk_data...\n",
            "[nltk_data]   Package punkt is already up-to-date!\n"
          ]
        },
        {
          "output_type": "execute_result",
          "data": {
            "text/plain": [
              "True"
            ]
          },
          "metadata": {},
          "execution_count": 3
        }
      ]
    },
    {
      "cell_type": "markdown",
      "source": [
        "Using the corpus we created in homework 1"
      ],
      "metadata": {
        "id": "xX-GI8HEXtiv"
      }
    },
    {
      "cell_type": "code",
      "source": [
        "sentences = []\n",
        "\n",
        "with open(\"corpus.txt\",\"r\", encoding = \"ISO-8859-1\") as file:\n",
        "  for s in file.readlines():\n",
        "    sentences.append(s.replace(\"\\n\",\"\"))\n",
        "\n",
        "print(f\"sentences size: {len(sentences)}\")\n"
      ],
      "metadata": {
        "id": "YRwLbFUdXi6J",
        "colab": {
          "base_uri": "https://localhost:8080/"
        },
        "outputId": "27ddd969-3af6-4583-918b-294de20ef572"
      },
      "execution_count": null,
      "outputs": [
        {
          "output_type": "stream",
          "name": "stdout",
          "text": [
            "sentences size: 467\n"
          ]
        }
      ]
    },
    {
      "cell_type": "markdown",
      "source": [
        "Apply tokenization:\n",
        "  - White space tokenizer\n",
        "  - Regex tokenizer\n",
        "  - Word tokenizer\n",
        "  - Sentence tokenizer"
      ],
      "metadata": {
        "id": "sWo8NHz4aEZB"
      }
    },
    {
      "cell_type": "code",
      "source": [
        "\n",
        "\n",
        "\"\"\" This function return list of tokens \"\"\"\n",
        "def tokenizer(sentences:list[str],tokenize,limit=-1):\n",
        "  tokens = []\n",
        "  for s in sentences[:limit]:\n",
        "    tokens.extend(tokenize(s))\n",
        "  return list(unique(tokens))\n",
        "\n",
        "print(f\"The sentence:\\n{sentences[0]}\\nTokens:\")\n",
        "\n",
        "#White space tokenizer\n",
        "wstk = WhitespaceTokenizer()\n",
        "print(f\"White space tokenizer: {tokenizer(sentences,wstk.tokenize,limit=5)}\")\n",
        "\n",
        "#Regex tokenizer\n",
        "rgtk = RegexpTokenizer(r'\\w+|\\$[\\d\\.]+|\\S+')\n",
        "print(f\"Regex tokenizer: {tokenizer(sentences,rgtk.tokenize,limit=5)}\")\n",
        "\n",
        "#Word tokenizer\n",
        "print(f\"Word tokenizer: {tokenizer(sentences,word_tokenize,limit=5)}\")\n",
        "\n",
        "#Sentence tokenizer\n",
        "print(f\"Sentence tokenizer: {tokenizer(sentences,sent_tokenize,limit=5)}\")"
      ],
      "metadata": {
        "id": "fJG0zTpNXi4d",
        "colab": {
          "base_uri": "https://localhost:8080/"
        },
        "outputId": "16015596-d2f6-4625-aa45-aeaae7951c23"
      },
      "execution_count": null,
      "outputs": [
        {
          "output_type": "stream",
          "name": "stdout",
          "text": [
            "The sentence:\n",
            "Search in 100+ Flutter Examples \n",
            "Tokens:\n",
            "White space tokenizer: ['Search', 'in', '100+', 'Flutter', 'Examples', 'Day', '64', 'of', '100', 'days', 'code.', '63', '62', '61']\n",
            "Regex tokenizer: ['Search', 'in', '100', '+', 'Flutter', 'Examples', 'Day', '64', 'of', 'days', 'code', '.', '63', '62', '61']\n",
            "Word tokenizer: ['Search', 'in', '100+', 'Flutter', 'Examples', 'Day', '64', 'of', '100', 'days', 'code', '.', '63', '62', '61']\n",
            "Sentence tokenizer: ['Search in 100+ Flutter Examples', 'Day 64 of Flutter 100 days of code.', 'Day 63 of Flutter 100 days of code.', 'Day 62 of Flutter 100 days of code.', 'Day 61 of Flutter 100 days of code.']\n"
          ]
        }
      ]
    },
    {
      "cell_type": "markdown",
      "source": [
        "Apply Normalization:\n",
        "- Stemming\n",
        "- Lemmatization"
      ],
      "metadata": {
        "id": "b1HTHR1UZ7Q_"
      }
    },
    {
      "cell_type": "code",
      "source": [
        "\n",
        "# Example sentences (it look better then just passing the first sentences..)\n",
        "sentencesNorm = [ # choose 5 that make sense..\n",
        "    'A Flutter staggered grid view which supports multiple columns with rows of varying sizes.',\n",
        "    'Use dynamic and beautiful card view pagers to help you create great apps.',\n",
        "    'Yet another bottom navigation bar with a few key promises.',\n",
        "    'Hubert was proposed in HuBERT: Self-Supervised Speech Representation Learning by Masked Prediction of Hidden Units by Wei-Ning Hsu, Benjamin Bolte, Yao-Hung Hubert Tsai, Kushal Lakhotia, Ruslan',\n",
        "    'Salakhutdinov, Abdelrahman Mohamed.'\n",
        "]\n",
        "\n",
        "\n",
        "# Normalization function\n",
        "def normalization(tokens, normalizer, limit=-1):\n",
        "    return [normalizer(s) for s in tokens[:limit]]\n",
        "\n",
        "# Tokenizer function\n",
        "def tokenizer(sentences, tokenizer):\n",
        "    return [token for sentence in sentences for token in tokenizer(sentence)]\n",
        "\n",
        "# Stemming and lemmatization\n",
        "def process_normalization(sentences, normalizer, limit=15):\n",
        "    tokens = tokenizer(sentences, word_tokenize)\n",
        "    return normalization(tokens, normalizer, limit)\n",
        "\n",
        "# Initialize Spacy\n",
        "nlp = spacy.load(\"en_core_web_sm\")\n",
        "\n",
        "# Normalizers\n",
        "normalizers = {\n",
        "    \"Porter Stemming\": PorterStemmer().stem,\n",
        "    \"Lancaster Stemming\": LancasterStemmer().stem,\n",
        "    \"Snowball Stemming\": SnowballStemmer(language='english').stem,\n",
        "    \"NLTK Lemmatization\": WordNetLemmatizer().lemmatize,\n",
        "    \"Spacy Lemmatization\": lambda s: [token.lemma_ for token in nlp(s)]\n",
        "}\n",
        "\n",
        "# Apply normalizers and print results\n",
        "for name, normalizer in normalizers.items():\n",
        "    if name == \"Spacy Lemmatization\":\n",
        "        result = [normalizer(sentence) for sentence in sentencesNorm[:5]]\n",
        "    else:\n",
        "        result = process_normalization(sentencesNorm, normalizer)\n",
        "    print(f\"{name}: {result[:15]}\")\n"
      ],
      "metadata": {
        "id": "K6Q2xGzXXi1W",
        "colab": {
          "base_uri": "https://localhost:8080/"
        },
        "outputId": "6eca318d-570a-4848-d672-acc02bb3738d"
      },
      "execution_count": null,
      "outputs": [
        {
          "output_type": "stream",
          "name": "stdout",
          "text": [
            "Porter Stemming: ['a', 'flutter', 'stagger', 'grid', 'view', 'which', 'support', 'multipl', 'column', 'with', 'row', 'of', 'vari', 'size', '.']\n",
            "Lancaster Stemming: ['a', 'flut', 'stag', 'grid', 'view', 'which', 'support', 'multipl', 'column', 'with', 'row', 'of', 'vary', 'siz', '.']\n",
            "Snowball Stemming: ['a', 'flutter', 'stagger', 'grid', 'view', 'which', 'support', 'multipl', 'column', 'with', 'row', 'of', 'vari', 'size', '.']\n",
            "NLTK Lemmatization: ['A', 'Flutter', 'staggered', 'grid', 'view', 'which', 'support', 'multiple', 'column', 'with', 'row', 'of', 'varying', 'size', '.']\n",
            "Spacy Lemmatization: [['a', 'Flutter', 'stagger', 'grid', 'view', 'which', 'support', 'multiple', 'column', 'with', 'row', 'of', 'vary', 'size', '.'], ['use', 'dynamic', 'and', 'beautiful', 'card', 'view', 'pager', 'to', 'help', 'you', 'create', 'great', 'app', '.'], ['yet', 'another', 'bottom', 'navigation', 'bar', 'with', 'a', 'few', 'key', 'promise', '.'], ['Hubert', 'be', 'propose', 'in', 'hubert', ':', 'self', '-', 'supervise', 'Speech', 'Representation', 'Learning', 'by', 'Masked', 'Prediction', 'of', 'Hidden', 'Units', 'by', 'Wei', '-', 'Ning', 'Hsu', ',', 'Benjamin', 'Bolte', ',', 'Yao', '-', 'Hung', 'Hubert', 'Tsai', ',', 'Kushal', 'Lakhotia', ',', 'Ruslan'], ['Salakhutdinov', ',', 'Abdelrahman', 'Mohamed', '.']]\n"
          ]
        }
      ]
    },
    {
      "cell_type": "markdown",
      "source": [
        "Remove Stop Words: conjunctions and articles"
      ],
      "metadata": {
        "id": "fctwzQLQX7Du"
      }
    },
    {
      "cell_type": "code",
      "source": [
        "nltk.download('stopwords')"
      ],
      "metadata": {
        "colab": {
          "base_uri": "https://localhost:8080/"
        },
        "id": "iQTZ0dDq6K5K",
        "outputId": "d18311cc-db58-4c48-83b0-5150c5cd4fad"
      },
      "execution_count": null,
      "outputs": [
        {
          "output_type": "stream",
          "name": "stderr",
          "text": [
            "[nltk_data] Downloading package stopwords to /root/nltk_data...\n",
            "[nltk_data]   Package stopwords is already up-to-date!\n"
          ]
        },
        {
          "output_type": "execute_result",
          "data": {
            "text/plain": [
              "True"
            ]
          },
          "metadata": {},
          "execution_count": 7
        }
      ]
    },
    {
      "cell_type": "code",
      "source": [
        "from nltk.corpus import stopwords\n",
        "def remove_stopwords(text):\n",
        "    words = nltk.word_tokenize(text)\n",
        "    stop_words = set(stopwords.words('english'))\n",
        "    words_filtered = [word for word in words if word.lower() not in stop_words]\n",
        "    text_filtered = ' '.join(words_filtered)\n",
        "    return text_filtered\n",
        "\n",
        "print(f\"Source: {sentences[0]}\")\n",
        "print(f\"Remove Stop Words: {remove_stopwords(sentences[0])}\")\n"
      ],
      "metadata": {
        "id": "RezNdQLPXiyQ",
        "colab": {
          "base_uri": "https://localhost:8080/"
        },
        "outputId": "9b7ee124-33f9-4a8d-e1b2-74a2532a2df8"
      },
      "execution_count": null,
      "outputs": [
        {
          "output_type": "stream",
          "name": "stdout",
          "text": [
            "Source: Search in 100+ Flutter Examples \n",
            "Remove Stop Words: Search 100+ Flutter Examples\n"
          ]
        }
      ]
    },
    {
      "cell_type": "markdown",
      "source": [
        "Apply feature extraction by the following algorithms:\n",
        "- BOW\n",
        "- TF-IDF\n",
        "- Word embedding by WORD2VEC"
      ],
      "metadata": {
        "id": "5MaCUdqOX8vU"
      }
    },
    {
      "cell_type": "code",
      "source": [
        "\n",
        "# BOW\n",
        "\n",
        "bow_vectorizer = CountVectorizer()\n",
        "bow_matrix = bow_vectorizer.fit_transform(sentences)\n",
        "print(f\"Matrix shape: {len(bow_matrix.toarray())}x{len(bow_matrix.toarray()[0])}\\n\")\n",
        "\n",
        "print(f\"--- BOW ---\")\n",
        "print(bow_matrix.toarray()[0][110:120])\n",
        "print(bow_vectorizer.get_feature_names_out()[110:120])\n",
        "\n",
        "# TF-IDF\n",
        "print(f\"\\n\\n--- TF-IDF ---\")\n",
        "tf_idf_vectorizer = TfidfVectorizer()\n",
        "print(tf_idf_vectorizer.fit_transform(sentences)[0])\n",
        "print(tf_idf_vectorizer.get_feature_names_out()[110:120])\n",
        "\n"
      ],
      "metadata": {
        "id": "xVyIvP8RXiwz",
        "colab": {
          "base_uri": "https://localhost:8080/"
        },
        "outputId": "3cbc8837-66b3-4d15-f86d-74be3a891d52"
      },
      "execution_count": null,
      "outputs": [
        {
          "output_type": "stream",
          "name": "stdout",
          "text": [
            "Matrix shape: 467x673\n",
            "\n",
            "--- BOW ---\n",
            "[0 0 0 0 0 0 0 0 0 0]\n",
            "['benefit' 'benjamin' 'bert' 'better' 'between' 'bolte' 'bool'\n",
            " 'bos_token_id' 'bottom' 'bouncing']\n",
            "\n",
            "\n",
            "--- TF-IDF ---\n",
            "  (0, 207)\t0.5857567471636506\n",
            "  (0, 226)\t0.29367550147429\n",
            "  (0, 4)\t0.3431041220922863\n",
            "  (0, 281)\t0.33137943137983716\n",
            "  (0, 506)\t0.5857567471636506\n",
            "['benefit' 'benjamin' 'bert' 'better' 'between' 'bolte' 'bool'\n",
            " 'bos_token_id' 'bottom' 'bouncing']\n"
          ]
        }
      ]
    },
    {
      "cell_type": "code",
      "source": [
        "\n",
        "\n",
        "corpus = []\n",
        "for s in sentences:\n",
        "  corpus.append(tokenizer([s],word_tokenize,limit=1))\n",
        "\n",
        "# Train the Word2Vec model\n",
        "model = Word2Vec(\n",
        "    sentences=corpus,   # The corpus to train the model on\n",
        "    vector_size=100,     # The size of the word vectors to be learned\n",
        "    window=5,              # The size of the window of words to be considered\n",
        "    min_count=1,           # The minimum frequency required for a word to be included in the vocabulary\n",
        "    sg=0,                  # 0 for CBOW, 1 for skip-gram\n",
        "    negative=5,            # The number of negative samples to use for negative sampling\n",
        "    ns_exponent=0.75,      # The exponent used to shape the negative sampling distribution\n",
        "    alpha=0.03,            # The initial learning rate\n",
        "    min_alpha=0.0007,      # The minimum learning rate to which the learning rate will be linearly reduced\n",
        "    epochs=30,             # The number of epochs (iterations) over the corpus\n",
        "    workers=4,             # The number of worker threads to use for training the model\n",
        "    seed=42,               # The seed for the random number generator\n",
        "    max_vocab_size=None    # The maximum vocabulary size (None means no limit)\n",
        ")\n",
        "\n",
        "word_to_check = 'Flutter'\n",
        "\n",
        "if word_to_check in model.wv:\n",
        "    vector = model.wv[word_to_check]\n",
        "    # Find the most similar words to a given word\n",
        "    similar_words = model.wv.most_similar(word_to_check)\n",
        "\n",
        "    # Print the vector and similar words\n",
        "    print(f\"Vector for '{word_to_check}':\", vector)\n",
        "    print(f\"Most similar words to '{word_to_check}':\", similar_words)\n",
        "else:\n",
        "    print(f\"Word '{word_to_check}' not found in vocabulary.\")"
      ],
      "metadata": {
        "id": "rCHo9Ab2XivO",
        "colab": {
          "base_uri": "https://localhost:8080/"
        },
        "outputId": "4ac744d5-614c-4538-d771-57259e91af97"
      },
      "execution_count": null,
      "outputs": [
        {
          "output_type": "stream",
          "name": "stdout",
          "text": [
            "Vector for 'Flutter': [-0.14729781  0.29750034 -0.38956866  0.40070105  0.12812424  0.4901716\n",
            "  0.11166948  0.7940336  -0.3921287   0.35432923 -0.42261598  0.8413246\n",
            "  0.13609315 -0.02202416 -0.08763188 -0.17329317 -0.24687956 -0.2766637\n",
            " -0.0833912  -0.10908526  0.40702906  0.28916106  0.47542235  0.24836221\n",
            " -0.07753623  0.54155904 -0.5260723   0.04159054 -0.32424164 -0.3875142\n",
            "  0.01231295 -0.17406069 -0.1954934   0.6838543   0.12853292 -0.4455833\n",
            " -0.60480535 -0.73664635 -0.16314745  0.46314356  0.16573843  0.23868641\n",
            "  0.4834183  -0.07753997  0.26256952  0.57499176  0.05003868  0.6256608\n",
            "  0.5687501   0.2560088  -0.4048323  -0.5816231   0.27039713  0.1509341\n",
            "  0.1913862  -0.3174618   0.28707162 -0.1933461  -0.2852275   0.3599017\n",
            " -0.65164196 -0.01407406 -0.09053874  0.22271201 -0.05659182 -0.24223958\n",
            " -0.01063277 -0.6355571   0.13675553 -0.19490103 -0.24847013 -0.1461057\n",
            "  0.06155507 -0.2457478   0.3061659   0.1618551   0.04067988  0.41544604\n",
            " -0.08851941  0.13894758  0.50989383 -0.20527844 -0.21977188  0.27640063\n",
            "  0.19193332 -0.33014527 -0.1957045  -0.3402645   0.11078883  0.04434227\n",
            " -0.6327324   0.35775977  0.17793307 -0.45211428  0.4761154  -0.28674933\n",
            " -0.21846542 -0.00823481 -0.73787284 -0.32473412]\n",
            "Most similar words to 'Flutter': [('Day', 0.9900573492050171), ('100', 0.9875499606132507), ('days', 0.9874377250671387), ('code', 0.9872047305107117), ('50', 0.9812667369842529), ('35', 0.9789412021636963), ('45', 0.9768866896629333), ('56', 0.9754147529602051), ('63', 0.9740689992904663), ('40', 0.9716053605079651)]\n"
          ]
        }
      ]
    },
    {
      "cell_type": "markdown",
      "source": [
        "# What is GloVe?  \n",
        "GloVe (Global Vectors for Word Representation) is an unsupervised learning algorithm developed by researchers at Stanford for obtaining vector representations for words. The main idea behind GloVe is to capture the meaning of words by looking at their co-occurrence statistics in a large corpus. GloVe vectors represent words in a high-dimensional space where the distance and direction between words can capture semantic relationships."
      ],
      "metadata": {
        "id": "Ps1wTt2-ELjq"
      }
    },
    {
      "cell_type": "code",
      "source": [
        "import numpy as np\n",
        "import nltk\n",
        "from nltk.tokenize import word_tokenize\n",
        "import os\n",
        "import urllib.request\n",
        "import zipfile\n",
        "\n",
        "# Ensure you have the GloVe file downloaded\n",
        "url = 'http://nlp.stanford.edu/data/glove.6B.zip'\n",
        "zipfilename = url.rsplit('/', 1)[-1]\n",
        "filename = zipfilename.rsplit('.', 1)[0]\n",
        "\n",
        "print(\"Downloading GloVe embeddings...\")\n",
        "urllib.request.urlretrieve(url, zipfilename)\n",
        "print(\"Download complete.\")\n",
        "\n",
        "print(\"Extracting GloVe embeddings...\")\n",
        "with zipfile.ZipFile(zipfilename, 'r') as zip_ref:\n",
        "    zip_ref.extractall()\n",
        "print(\"Extraction complete.\")\n",
        "\n",
        "# Load GloVe embeddings\n",
        "def load_glove_model(glove_file):\n",
        "    print(\"Loading GloVe model...\")\n",
        "    model = {}\n",
        "    with open(glove_file, 'r', encoding=\"utf8\") as f:\n",
        "        for line in f:\n",
        "            split_line = line.split()\n",
        "            word = split_line[0]\n",
        "            embedding = np.array([float(val) for val in split_line[1:]])\n",
        "            model[word] = embedding\n",
        "    print(\"Done.\", len(model), \" words loaded!\")\n",
        "    return model\n",
        "\n",
        "# Path to GloVe file\n",
        "glove_file = \"glove.6B.50d.txt\"  # Make sure this file is in your working directory\n",
        "\n",
        "# Load the GloVe model\n",
        "glove_model = load_glove_model(glove_file)\n",
        "\n",
        "# Example sentences\n",
        "sentences = [\n",
        "    'A Flutter staggered grid view which supports multiple columns with rows of varying sizes.',\n",
        "    'Use dynamic and beautiful card view pagers to help you create great apps.',\n",
        "    'Yet another bottom navigation bar with a few key promises.',\n",
        "    'Hubert was proposed in HuBERT: Self-Supervised Speech Representation Learning by Masked Prediction of Hidden Units by Wei-Ning Hsu, Benjamin Bolte, Yao-Hung Hubert Tsai, Kushal Lakhotia, Ruslan',\n",
        "    'Salakhutdinov, Abdelrahman Mohamed.'\n",
        "]\n",
        "\n",
        "# Function to convert sentences to GloVe embeddings\n",
        "def sentence_to_glove(sentence, glove_model):\n",
        "    tokens = word_tokenize(sentence.lower())\n",
        "    vectors = [glove_model[token] for token in tokens if token in glove_model]\n",
        "    if vectors:\n",
        "        return np.mean(vectors, axis=0)\n",
        "    else:\n",
        "        return np.zeros(50)  # Return a zero vector if no tokens are found\n",
        "\n",
        "# Compute GloVe embeddings for sentences\n",
        "glove_embeddings = [sentence_to_glove(sentence, glove_model) for sentence in sentences]\n",
        "\n",
        "# Print the embeddings\n",
        "for i, embedding in enumerate(glove_embeddings):\n",
        "    print(f\"Sentence {i+1} GloVe embedding: {embedding}\")"
      ],
      "metadata": {
        "colab": {
          "base_uri": "https://localhost:8080/"
        },
        "id": "9_r9wLUMFzUi",
        "outputId": "3ba3d014-9196-407d-c261-d6b4c1a69613"
      },
      "execution_count": null,
      "outputs": [
        {
          "output_type": "stream",
          "name": "stdout",
          "text": [
            "Downloading GloVe embeddings...\n",
            "Download complete.\n",
            "Extracting GloVe embeddings...\n",
            "Extraction complete.\n",
            "Loading GloVe model...\n",
            "Done. 400000  words loaded!\n",
            "Sentence 1 GloVe embedding: [ 0.3484296   0.3851346   0.1631234  -0.08282333  0.1819038   0.52050847\n",
            " -0.00614613 -0.45836733 -0.1030844  -0.25582107 -0.1319028  -0.31361333\n",
            " -0.1020254   0.16592813 -0.13693787 -0.03395488 -0.19639703 -0.13824147\n",
            " -0.09832622 -0.7163274   0.02562753 -0.2026846   0.18284467  0.07186505\n",
            " -0.09771815 -0.570934   -0.201538    0.25061093  0.12621231 -0.0205856\n",
            "  2.71114933  0.06023756  0.00571573 -0.35129447  0.03799913  0.15220443\n",
            "  0.07142327  0.06880487 -0.23841413  0.09578153  0.07572035 -0.0519618\n",
            " -0.04808693  0.3564852  -0.249343    0.04569329  0.2498818  -0.0949004\n",
            " -0.1268876  -0.37642407]\n",
            "Sentence 2 GloVe embedding: [ 3.52329364e-01  2.07038857e-01  2.26760000e-01  1.04433357e-01\n",
            "  3.48035857e-01  4.86328571e-02 -3.26107500e-01 -4.52099271e-01\n",
            " -3.00410714e-02  3.56521500e-01  2.74543571e-02  3.20700300e-01\n",
            "  7.16107429e-02 -8.55755000e-02  1.02493286e-01  2.60634714e-01\n",
            "  7.70135714e-03 -2.09741429e-02  1.24057500e-01 -5.86000714e-01\n",
            "  4.01846357e-02  3.15576429e-02 -1.00948714e-01  9.49768571e-02\n",
            "  4.03779143e-01 -1.12713000e+00 -4.13715500e-01 -2.58487929e-01\n",
            "  4.67541221e-01 -5.64293143e-01  2.95717143e+00  3.88039529e-01\n",
            " -2.69944929e-01 -3.97938286e-01  9.85378571e-04  2.01439286e-01\n",
            " -5.80848571e-02  2.16398214e-01 -2.20696429e-01 -2.92717629e-01\n",
            "  2.42641166e-01  6.30607143e-02 -1.41795714e-02  2.79901857e-01\n",
            "  1.13297214e-01  2.22176143e-01  1.47425643e-01 -1.99499071e-01\n",
            " -1.27559286e-02  6.92462214e-02]\n",
            "Sentence 3 GloVe embedding: [ 1.88216091e-01  2.70677182e-01  8.26272727e-04  3.20154545e-02\n",
            "  2.83323636e-01  1.68087727e-01 -4.84839273e-01 -3.49863636e-02\n",
            " -4.84513636e-02 -6.81909091e-04 -1.60397182e-01  5.63601818e-02\n",
            " -3.10256091e-01  2.44699545e-01  2.69047273e-02  5.61627273e-02\n",
            "  6.34852727e-02 -1.83174273e-01 -2.63921909e-01 -4.86931273e-01\n",
            "  1.74626000e-01  9.21201818e-02  6.67363636e-03 -3.04788182e-02\n",
            "  3.33230909e-02 -1.42303273e+00 -2.15766427e-01  2.59728545e-01\n",
            "  3.25434989e-01 -1.18354636e-01  3.15684545e+00  1.39540364e-02\n",
            " -2.62019455e-01 -1.04424943e-01  2.41669909e-01  7.71427273e-02\n",
            "  4.09209091e-02  2.07300909e-01  6.28731818e-02 -2.45303455e-01\n",
            " -7.06760736e-03  1.25605418e-01 -5.41316364e-02  1.00890073e-01\n",
            " -1.34878182e-01  8.15030000e-02  4.14311818e-02  4.08610909e-02\n",
            "  2.30930273e-01 -1.56363909e-01]\n",
            "Sentence 4 GloVe embedding: [ 0.15348415  0.22695074 -0.04504164  0.22094215  0.21460707  0.34446878\n",
            " -0.2488867  -0.2968017  -0.48035956 -0.25252356  0.08131068  0.10912344\n",
            " -0.16673719 -0.06027359  0.02577578 -0.02868519 -0.03861367 -0.14863789\n",
            " -0.23328541 -0.03563463  0.09472748  0.12725663  0.08018822 -0.28340526\n",
            "  0.18323519 -0.92892681 -0.04876207 -0.17049904 -0.30982837  0.08271348\n",
            "  1.94741    -0.17112947 -0.1961783  -0.30947478  0.0097147  -0.1320751\n",
            "  0.04151744  0.18320767  0.08450833  0.25563381  0.05168033  0.32525984\n",
            " -0.02441233 -0.26002211  0.04566622 -0.12240674 -0.26588952 -0.13562915\n",
            "  0.22780493  0.10215778]\n",
            "Sentence 5 GloVe embedding: [ 0.08805525  0.12641775 -0.158195    0.4100475   0.6959925  -0.498145\n",
            " -0.12294575 -0.2246625   0.0946575  -0.03034175  0.4503225   0.359039\n",
            " -0.58758     0.0246625   0.4997075   0.22444525 -0.15855675 -0.21783975\n",
            "  0.06498     0.3308525  -0.141115    0.47514625  0.666505   -0.02931625\n",
            " -0.296992   -0.7802925   0.2158625  -0.05898075 -0.15020275  0.604785\n",
            "  1.7886875  -0.0775354  -0.37330075  0.1331875   0.23198975  0.1569675\n",
            "  0.08382     0.291735    0.247265    0.82321075  0.10964108  0.72952175\n",
            " -0.10093775 -0.1413375   0.204765   -0.0810225  -0.65857075 -0.09419375\n",
            "  0.375671   -0.1912425 ]\n"
          ]
        }
      ]
    },
    {
      "cell_type": "markdown",
      "source": [
        "# Explanation and Results :  \n",
        "Loading GloVe Model: We load the pre-trained GloVe embeddings from a file.\n",
        "\n",
        "This file contains word vectors for many English words, each represented as a 50-dimensional vector.\n",
        "\n",
        "Tokenizing Sentences: Each sentence is tokenized into words.\n",
        "Mapping Tokens to GloVe Vectors: For each token in the sentence, we find the corresponding GloVe vector.\n",
        "\n",
        "Computing Sentence Embeddings: We compute the sentence embedding by averaging the GloVe vectors of the words in the sentence. If no words in the sentence are found in the GloVe model, we return a zero vector.\n",
        "\n",
        "The GloVe embeddings for each sentence are printed as high-dimensional vectors. These embeddings can be used for various NLP tasks such as clustering, classification, and similarity computations.\n",
        "\n",
        "The results (GloVe embeddings) capture the semantic meaning of the sentences, allowing us to use these vectors for more advanced NLP applications. For example, similar sentences will have embeddings that are close to each other in the vector space."
      ],
      "metadata": {
        "id": "xv-zdLt3FhMp"
      }
    },
    {
      "cell_type": "markdown",
      "source": [
        "Select 5 sentences and apply to them Tagging by CYK algorithm\n"
      ],
      "metadata": {
        "id": "kuipA-cXYA77"
      }
    },
    {
      "cell_type": "code",
      "source": [
        "five_sentences = sentences[42:45] + sentences[123:125] # choose 5 that make sense..\n",
        "five_sentences"
      ],
      "metadata": {
        "id": "Rb-bgFL1Xiol",
        "colab": {
          "base_uri": "https://localhost:8080/"
        },
        "outputId": "de5f1ce5-bc26-4be0-e5f0-1dd8adbd0753"
      },
      "execution_count": null,
      "outputs": [
        {
          "output_type": "execute_result",
          "data": {
            "text/plain": [
              "['A Flutter staggered grid view (masonry tiles) which supports multiple columns with rows of varying sizes.',\n",
              " 'Use dynamic and beautiful card view pagers to help you create great apps.',\n",
              " 'Yet another bottom navigation bar, but with a few key promises.',\n",
              " 'Hubert was proposed in HuBERT: Self-Supervised Speech Representation Learning by Masked Prediction of Hidden Units by Wei-Ning Hsu, Benjamin Bolte, Yao-Hung Hubert Tsai, Kushal Lakhotia, Ruslan',\n",
              " 'Salakhutdinov, Abdelrahman Mohamed.']"
            ]
          },
          "metadata": {},
          "execution_count": 21
        }
      ]
    },
    {
      "cell_type": "code",
      "source": [
        "import nltk\n",
        "from nltk.tokenize import word_tokenize\n",
        "\n",
        "# Expanded grammar in Chomsky Normal Form (CNF)\n",
        "grammar = [\n",
        "    ('S', 'NP', 'VP'),\n",
        "    ('NP', 'Det', 'Nom'),\n",
        "    ('NP', 'Noun'),\n",
        "    ('Nom', 'Adj', 'Nom'),\n",
        "    ('Nom', 'Noun', 'Nom'),\n",
        "    ('Nom', 'Noun'),\n",
        "    ('PP', 'Prep', 'NP'),\n",
        "    ('VP', 'Verb', 'NP'),\n",
        "    ('VP', 'Verb', 'PP'),\n",
        "    ('VP', 'Verb', 'Adj'),\n",
        "    ('VP', 'Verb', 'Adv'),\n",
        "    ('VP', 'Verb', 'VP'),\n",
        "    ('Det', 'a'),\n",
        "    ('Det', 'the'),\n",
        "    ('Det', 'an'),\n",
        "    ('Noun', 'flutter'),\n",
        "    ('Noun', 'grid'),\n",
        "    ('Noun', 'view'),\n",
        "    ('Noun', 'supports'),\n",
        "    ('Noun', 'columns'),\n",
        "    ('Noun', 'rows'),\n",
        "    ('Noun', 'sizes'),\n",
        "    ('Noun', 'card'),\n",
        "    ('Noun', 'pagers'),\n",
        "    ('Noun', 'apps'),\n",
        "    ('Noun', 'navigation'),\n",
        "    ('Noun', 'bar'),\n",
        "    ('Noun', 'promises'),\n",
        "    ('Noun', 'hubert'),\n",
        "    ('Noun', 'learning'),\n",
        "    ('Noun', 'prediction'),\n",
        "    ('Noun', 'units'),\n",
        "    ('Noun', 'wei-ning'),\n",
        "    ('Noun', 'hsu'),\n",
        "    ('Noun', 'bolte'),\n",
        "    ('Noun', 'tsai'),\n",
        "    ('Noun', 'lakhotia'),\n",
        "    ('Noun', 'salakhutdinov'),\n",
        "    ('Noun', 'mohamed'),\n",
        "    ('Noun', 'speech'),\n",
        "    ('Noun', 'representation'),\n",
        "    ('Adj', 'staggered'),\n",
        "    ('Adj', 'dynamic'),\n",
        "    ('Adj', 'beautiful'),\n",
        "    ('Adj', 'multiple'),\n",
        "    ('Adj', 'great'),\n",
        "    ('Adj', 'key'),\n",
        "    ('Adj', 'self-supervised'),\n",
        "    ('Adj', 'masked'),\n",
        "    ('Adj', 'hidden'),\n",
        "    ('Adj', 'varying'),\n",
        "    ('Verb', 'use'),\n",
        "    ('Verb', 'create'),\n",
        "    ('Verb', 'help'),\n",
        "    ('Verb', 'proposed'),\n",
        "    ('Verb', 'was'),\n",
        "    ('Verb', 'supports'),\n",
        "    ('Prep', 'with'),\n",
        "    ('Prep', 'in'),\n",
        "    ('Prep', 'by'),\n",
        "    ('Adv', 'another')\n",
        "]\n",
        "\n",
        "# CYK Parser\n",
        "def cyk_parse(sentence, grammar):\n",
        "    tokens = word_tokenize(sentence.lower())\n",
        "    n = len(tokens)\n",
        "    table = [[set() for _ in range(n+1)] for _ in range(n+1)]\n",
        "\n",
        "    # Initialization\n",
        "    for i in range(n):\n",
        "        for rule in grammar:\n",
        "            if len(rule) == 2 and rule[1] == tokens[i]:\n",
        "                table[i][i+1].add(rule[0])\n",
        "\n",
        "    # Rule Application\n",
        "    for length in range(2, n+1):\n",
        "        for i in range(n-length+1):\n",
        "            j = i + length\n",
        "            for k in range(i+1, j):\n",
        "                for rule in grammar:\n",
        "                    if len(rule) == 3:\n",
        "                        B, C = rule[1], rule[2]\n",
        "                        if B in table[i][k] and C in table[k][j]:\n",
        "                            table[i][j].add(rule[0])\n",
        "\n",
        "    return table\n",
        "\n",
        "# Parse each sentence and print the CYK table\n",
        "for sentence in five_sentences:\n",
        "    table = cyk_parse(sentence, grammar)\n",
        "    print(f\"Parse table for: {sentence}\")\n",
        "    for row in table:\n",
        "        print(row)\n",
        "    print(\"\\n\")\n"
      ],
      "metadata": {
        "id": "HdZm4MJOXil8",
        "colab": {
          "base_uri": "https://localhost:8080/"
        },
        "outputId": "5cf97760-49fc-4b23-ee3b-15ced965d888"
      },
      "execution_count": null,
      "outputs": [
        {
          "output_type": "stream",
          "name": "stdout",
          "text": [
            "Parse table for: A Flutter staggered grid view which supports multiple columns with rows of varying sizes.\n",
            "[set(), {'Det'}, set(), set(), set(), set(), set(), set(), set(), set(), set(), set(), set(), set(), set(), set()]\n",
            "[set(), set(), {'Noun'}, set(), set(), set(), set(), set(), set(), set(), set(), set(), set(), set(), set(), set()]\n",
            "[set(), set(), set(), {'Adj'}, set(), set(), set(), set(), set(), set(), set(), set(), set(), set(), set(), set()]\n",
            "[set(), set(), set(), set(), {'Noun'}, set(), set(), set(), set(), set(), set(), set(), set(), set(), set(), set()]\n",
            "[set(), set(), set(), set(), set(), {'Noun'}, set(), set(), set(), set(), set(), set(), set(), set(), set(), set()]\n",
            "[set(), set(), set(), set(), set(), set(), set(), set(), set(), set(), set(), set(), set(), set(), set(), set()]\n",
            "[set(), set(), set(), set(), set(), set(), set(), {'Verb', 'Noun'}, {'VP'}, set(), set(), set(), set(), set(), set(), set()]\n",
            "[set(), set(), set(), set(), set(), set(), set(), set(), {'Adj'}, set(), set(), set(), set(), set(), set(), set()]\n",
            "[set(), set(), set(), set(), set(), set(), set(), set(), set(), {'Noun'}, set(), set(), set(), set(), set(), set()]\n",
            "[set(), set(), set(), set(), set(), set(), set(), set(), set(), set(), {'Prep'}, set(), set(), set(), set(), set()]\n",
            "[set(), set(), set(), set(), set(), set(), set(), set(), set(), set(), set(), {'Noun'}, set(), set(), set(), set()]\n",
            "[set(), set(), set(), set(), set(), set(), set(), set(), set(), set(), set(), set(), set(), set(), set(), set()]\n",
            "[set(), set(), set(), set(), set(), set(), set(), set(), set(), set(), set(), set(), set(), {'Adj'}, set(), set()]\n",
            "[set(), set(), set(), set(), set(), set(), set(), set(), set(), set(), set(), set(), set(), set(), {'Noun'}, set()]\n",
            "[set(), set(), set(), set(), set(), set(), set(), set(), set(), set(), set(), set(), set(), set(), set(), set()]\n",
            "[set(), set(), set(), set(), set(), set(), set(), set(), set(), set(), set(), set(), set(), set(), set(), set()]\n",
            "\n",
            "\n",
            "Parse table for: Use dynamic and beautiful card view pagers to help you create great apps.\n",
            "[set(), {'Verb'}, {'VP'}, set(), set(), set(), set(), set(), set(), set(), set(), set(), set(), set(), set()]\n",
            "[set(), set(), {'Adj'}, set(), set(), set(), set(), set(), set(), set(), set(), set(), set(), set(), set()]\n",
            "[set(), set(), set(), set(), set(), set(), set(), set(), set(), set(), set(), set(), set(), set(), set()]\n",
            "[set(), set(), set(), set(), {'Adj'}, set(), set(), set(), set(), set(), set(), set(), set(), set(), set()]\n",
            "[set(), set(), set(), set(), set(), {'Noun'}, set(), set(), set(), set(), set(), set(), set(), set(), set()]\n",
            "[set(), set(), set(), set(), set(), set(), {'Noun'}, set(), set(), set(), set(), set(), set(), set(), set()]\n",
            "[set(), set(), set(), set(), set(), set(), set(), {'Noun'}, set(), set(), set(), set(), set(), set(), set()]\n",
            "[set(), set(), set(), set(), set(), set(), set(), set(), set(), set(), set(), set(), set(), set(), set()]\n",
            "[set(), set(), set(), set(), set(), set(), set(), set(), set(), {'Verb'}, set(), set(), set(), set(), set()]\n",
            "[set(), set(), set(), set(), set(), set(), set(), set(), set(), set(), set(), set(), set(), set(), set()]\n",
            "[set(), set(), set(), set(), set(), set(), set(), set(), set(), set(), set(), {'Verb'}, {'VP'}, set(), set()]\n",
            "[set(), set(), set(), set(), set(), set(), set(), set(), set(), set(), set(), set(), {'Adj'}, set(), set()]\n",
            "[set(), set(), set(), set(), set(), set(), set(), set(), set(), set(), set(), set(), set(), {'Noun'}, set()]\n",
            "[set(), set(), set(), set(), set(), set(), set(), set(), set(), set(), set(), set(), set(), set(), set()]\n",
            "[set(), set(), set(), set(), set(), set(), set(), set(), set(), set(), set(), set(), set(), set(), set()]\n",
            "\n",
            "\n",
            "Parse table for: Yet another bottom navigation bar with a few key promises.\n",
            "[set(), set(), set(), set(), set(), set(), set(), set(), set(), set(), set(), set()]\n",
            "[set(), set(), {'Adv'}, set(), set(), set(), set(), set(), set(), set(), set(), set()]\n",
            "[set(), set(), set(), set(), set(), set(), set(), set(), set(), set(), set(), set()]\n",
            "[set(), set(), set(), set(), {'Noun'}, set(), set(), set(), set(), set(), set(), set()]\n",
            "[set(), set(), set(), set(), set(), {'Noun'}, set(), set(), set(), set(), set(), set()]\n",
            "[set(), set(), set(), set(), set(), set(), {'Prep'}, set(), set(), set(), set(), set()]\n",
            "[set(), set(), set(), set(), set(), set(), set(), {'Det'}, set(), set(), set(), set()]\n",
            "[set(), set(), set(), set(), set(), set(), set(), set(), set(), set(), set(), set()]\n",
            "[set(), set(), set(), set(), set(), set(), set(), set(), set(), {'Adj'}, set(), set()]\n",
            "[set(), set(), set(), set(), set(), set(), set(), set(), set(), set(), {'Noun'}, set()]\n",
            "[set(), set(), set(), set(), set(), set(), set(), set(), set(), set(), set(), set()]\n",
            "[set(), set(), set(), set(), set(), set(), set(), set(), set(), set(), set(), set()]\n",
            "\n",
            "\n",
            "Parse table for: Hubert was proposed in HuBERT: Self-Supervised Speech Representation Learning by Masked Prediction of Hidden Units by Wei-Ning Hsu, Benjamin Bolte, Yao-Hung Hubert Tsai, Kushal Lakhotia, Ruslan\n",
            "[set(), {'Noun'}, set(), set(), set(), set(), set(), set(), set(), set(), set(), set(), set(), set(), set(), set(), set(), set(), set(), set(), set(), set(), set(), set(), set(), set(), set(), set(), set(), set(), set(), set()]\n",
            "[set(), set(), {'Verb'}, set(), set(), set(), set(), set(), set(), set(), set(), set(), set(), set(), set(), set(), set(), set(), set(), set(), set(), set(), set(), set(), set(), set(), set(), set(), set(), set(), set(), set()]\n",
            "[set(), set(), set(), {'Verb'}, set(), set(), set(), set(), set(), set(), set(), set(), set(), set(), set(), set(), set(), set(), set(), set(), set(), set(), set(), set(), set(), set(), set(), set(), set(), set(), set(), set()]\n",
            "[set(), set(), set(), set(), {'Prep'}, set(), set(), set(), set(), set(), set(), set(), set(), set(), set(), set(), set(), set(), set(), set(), set(), set(), set(), set(), set(), set(), set(), set(), set(), set(), set(), set()]\n",
            "[set(), set(), set(), set(), set(), {'Noun'}, set(), set(), set(), set(), set(), set(), set(), set(), set(), set(), set(), set(), set(), set(), set(), set(), set(), set(), set(), set(), set(), set(), set(), set(), set(), set()]\n",
            "[set(), set(), set(), set(), set(), set(), set(), set(), set(), set(), set(), set(), set(), set(), set(), set(), set(), set(), set(), set(), set(), set(), set(), set(), set(), set(), set(), set(), set(), set(), set(), set()]\n",
            "[set(), set(), set(), set(), set(), set(), set(), {'Adj'}, set(), set(), set(), set(), set(), set(), set(), set(), set(), set(), set(), set(), set(), set(), set(), set(), set(), set(), set(), set(), set(), set(), set(), set()]\n",
            "[set(), set(), set(), set(), set(), set(), set(), set(), {'Noun'}, set(), set(), set(), set(), set(), set(), set(), set(), set(), set(), set(), set(), set(), set(), set(), set(), set(), set(), set(), set(), set(), set(), set()]\n",
            "[set(), set(), set(), set(), set(), set(), set(), set(), set(), {'Noun'}, set(), set(), set(), set(), set(), set(), set(), set(), set(), set(), set(), set(), set(), set(), set(), set(), set(), set(), set(), set(), set(), set()]\n",
            "[set(), set(), set(), set(), set(), set(), set(), set(), set(), set(), {'Noun'}, set(), set(), set(), set(), set(), set(), set(), set(), set(), set(), set(), set(), set(), set(), set(), set(), set(), set(), set(), set(), set()]\n",
            "[set(), set(), set(), set(), set(), set(), set(), set(), set(), set(), set(), {'Prep'}, set(), set(), set(), set(), set(), set(), set(), set(), set(), set(), set(), set(), set(), set(), set(), set(), set(), set(), set(), set()]\n",
            "[set(), set(), set(), set(), set(), set(), set(), set(), set(), set(), set(), set(), {'Adj'}, set(), set(), set(), set(), set(), set(), set(), set(), set(), set(), set(), set(), set(), set(), set(), set(), set(), set(), set()]\n",
            "[set(), set(), set(), set(), set(), set(), set(), set(), set(), set(), set(), set(), set(), {'Noun'}, set(), set(), set(), set(), set(), set(), set(), set(), set(), set(), set(), set(), set(), set(), set(), set(), set(), set()]\n",
            "[set(), set(), set(), set(), set(), set(), set(), set(), set(), set(), set(), set(), set(), set(), set(), set(), set(), set(), set(), set(), set(), set(), set(), set(), set(), set(), set(), set(), set(), set(), set(), set()]\n",
            "[set(), set(), set(), set(), set(), set(), set(), set(), set(), set(), set(), set(), set(), set(), set(), {'Adj'}, set(), set(), set(), set(), set(), set(), set(), set(), set(), set(), set(), set(), set(), set(), set(), set()]\n",
            "[set(), set(), set(), set(), set(), set(), set(), set(), set(), set(), set(), set(), set(), set(), set(), set(), {'Noun'}, set(), set(), set(), set(), set(), set(), set(), set(), set(), set(), set(), set(), set(), set(), set()]\n",
            "[set(), set(), set(), set(), set(), set(), set(), set(), set(), set(), set(), set(), set(), set(), set(), set(), set(), {'Prep'}, set(), set(), set(), set(), set(), set(), set(), set(), set(), set(), set(), set(), set(), set()]\n",
            "[set(), set(), set(), set(), set(), set(), set(), set(), set(), set(), set(), set(), set(), set(), set(), set(), set(), set(), {'Noun'}, set(), set(), set(), set(), set(), set(), set(), set(), set(), set(), set(), set(), set()]\n",
            "[set(), set(), set(), set(), set(), set(), set(), set(), set(), set(), set(), set(), set(), set(), set(), set(), set(), set(), set(), {'Noun'}, set(), set(), set(), set(), set(), set(), set(), set(), set(), set(), set(), set()]\n",
            "[set(), set(), set(), set(), set(), set(), set(), set(), set(), set(), set(), set(), set(), set(), set(), set(), set(), set(), set(), set(), set(), set(), set(), set(), set(), set(), set(), set(), set(), set(), set(), set()]\n",
            "[set(), set(), set(), set(), set(), set(), set(), set(), set(), set(), set(), set(), set(), set(), set(), set(), set(), set(), set(), set(), set(), set(), set(), set(), set(), set(), set(), set(), set(), set(), set(), set()]\n",
            "[set(), set(), set(), set(), set(), set(), set(), set(), set(), set(), set(), set(), set(), set(), set(), set(), set(), set(), set(), set(), set(), set(), {'Noun'}, set(), set(), set(), set(), set(), set(), set(), set(), set()]\n",
            "[set(), set(), set(), set(), set(), set(), set(), set(), set(), set(), set(), set(), set(), set(), set(), set(), set(), set(), set(), set(), set(), set(), set(), set(), set(), set(), set(), set(), set(), set(), set(), set()]\n",
            "[set(), set(), set(), set(), set(), set(), set(), set(), set(), set(), set(), set(), set(), set(), set(), set(), set(), set(), set(), set(), set(), set(), set(), set(), set(), set(), set(), set(), set(), set(), set(), set()]\n",
            "[set(), set(), set(), set(), set(), set(), set(), set(), set(), set(), set(), set(), set(), set(), set(), set(), set(), set(), set(), set(), set(), set(), set(), set(), set(), {'Noun'}, set(), set(), set(), set(), set(), set()]\n",
            "[set(), set(), set(), set(), set(), set(), set(), set(), set(), set(), set(), set(), set(), set(), set(), set(), set(), set(), set(), set(), set(), set(), set(), set(), set(), set(), {'Noun'}, set(), set(), set(), set(), set()]\n",
            "[set(), set(), set(), set(), set(), set(), set(), set(), set(), set(), set(), set(), set(), set(), set(), set(), set(), set(), set(), set(), set(), set(), set(), set(), set(), set(), set(), set(), set(), set(), set(), set()]\n",
            "[set(), set(), set(), set(), set(), set(), set(), set(), set(), set(), set(), set(), set(), set(), set(), set(), set(), set(), set(), set(), set(), set(), set(), set(), set(), set(), set(), set(), set(), set(), set(), set()]\n",
            "[set(), set(), set(), set(), set(), set(), set(), set(), set(), set(), set(), set(), set(), set(), set(), set(), set(), set(), set(), set(), set(), set(), set(), set(), set(), set(), set(), set(), set(), {'Noun'}, set(), set()]\n",
            "[set(), set(), set(), set(), set(), set(), set(), set(), set(), set(), set(), set(), set(), set(), set(), set(), set(), set(), set(), set(), set(), set(), set(), set(), set(), set(), set(), set(), set(), set(), set(), set()]\n",
            "[set(), set(), set(), set(), set(), set(), set(), set(), set(), set(), set(), set(), set(), set(), set(), set(), set(), set(), set(), set(), set(), set(), set(), set(), set(), set(), set(), set(), set(), set(), set(), set()]\n",
            "[set(), set(), set(), set(), set(), set(), set(), set(), set(), set(), set(), set(), set(), set(), set(), set(), set(), set(), set(), set(), set(), set(), set(), set(), set(), set(), set(), set(), set(), set(), set(), set()]\n",
            "\n",
            "\n",
            "Parse table for: Salakhutdinov, Abdelrahman Mohamed.\n",
            "[set(), {'Noun'}, set(), set(), set(), set()]\n",
            "[set(), set(), set(), set(), set(), set()]\n",
            "[set(), set(), set(), set(), set(), set()]\n",
            "[set(), set(), set(), set(), {'Noun'}, set()]\n",
            "[set(), set(), set(), set(), set(), set()]\n",
            "[set(), set(), set(), set(), set(), set()]\n",
            "\n",
            "\n"
          ]
        }
      ]
    },
    {
      "cell_type": "code",
      "source": [
        "%%shell\n",
        "jupyter nbconvert --to html /content/NlpTask2_Dori_Shlomi.ipynb"
      ],
      "metadata": {
        "id": "L59XfMPB8NXX",
        "colab": {
          "base_uri": "https://localhost:8080/"
        },
        "outputId": "5afe4063-50fc-428a-a2af-1c5c324a9bc8"
      },
      "execution_count": null,
      "outputs": [
        {
          "output_type": "stream",
          "name": "stdout",
          "text": [
            "[NbConvertApp] Converting notebook /content/NlpTask2_Dori_Shlomi.ipynb to html\n",
            "[NbConvertApp] Writing 668313 bytes to /content/NlpTask2_Dori_Shlomi.html\n"
          ]
        },
        {
          "output_type": "execute_result",
          "data": {
            "text/plain": []
          },
          "metadata": {},
          "execution_count": 1
        }
      ]
    },
    {
      "cell_type": "code",
      "source": [],
      "metadata": {
        "id": "Y_oOefZiPoA_"
      },
      "execution_count": null,
      "outputs": []
    }
  ]
}